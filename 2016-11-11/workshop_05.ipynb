{
 "cells": [
  {
   "cell_type": "markdown",
   "metadata": {
    "collapsed": true
   },
   "source": [
    "## Workshop 05\n",
    "![classroom1](https://github.com/elesciarrone/ggpl/blob/master/2016-11-11/classroom1.jpg?raw=true)\n",
    "![classroom2](https://github.com/elesciarrone/ggpl/blob/master/2016-11-11/classroom2.PNG?raw=true)"
   ]
  },
  {
   "cell_type": "code",
   "execution_count": null,
   "metadata": {},
   "outputs": [],
   "source": [
    "from pyplasm import *"
   ]
  },
  {
   "cell_type": "code",
   "execution_count": null,
   "metadata": {},
   "outputs": [],
   "source": [
    "# Definizione muro laterale\n",
    "wx_lato = QUOTE([7])\n",
    "wy_lato = QUOTE([0.3])\n",
    "wz_lato = QUOTE([3])\n",
    "wall_lato = INSR(PROD)([wx_lato,wy_lato,wz_lato])"
   ]
  },
  {
   "cell_type": "code",
   "execution_count": null,
   "metadata": {},
   "outputs": [],
   "source": [
    "# Definizione muro di fondo\n",
    "wx_fondo = QUOTE([0.3])\n",
    "wy_fondo = QUOTE([5])\n",
    "wz_fondo = QUOTE([3])\n",
    "wall_fondo = INSR(PROD)([wx_fondo,wy_fondo,wz_fondo])"
   ]
  },
  {
   "cell_type": "code",
   "execution_count": null,
   "metadata": {},
   "outputs": [],
   "source": [
    "# Definizione delle finestre\n",
    "x_window = QUOTE([1, -1]*2)\n",
    "y_window = QUOTE([0.3])\n",
    "z_window = QUOTE([0.8])\n",
    "window = INSR(PROD)([x_window, y_window, z_window])"
   ]
  },
  {
   "cell_type": "code",
   "execution_count": null,
   "metadata": {},
   "outputs": [],
   "source": [
    "# Struttura della classe\n",
    "wall = DIFFERENCE([STRUCT([wall_fondo, wall_lato]), (T([1,3])([2.5,1])(window))])"
   ]
  },
  {
   "cell_type": "code",
   "execution_count": null,
   "metadata": {},
   "outputs": [],
   "source": [
    "# Definizione del pavimento\n",
    "x_pavimento = QUOTE([7])\n",
    "y_pavimento = QUOTE([5])\n",
    "z_pavimento = QUOTE([0.01])\n",
    "pavimento = INSR(PROD)([x_pavimento,y_pavimento,z_pavimento])"
   ]
  },
  {
   "cell_type": "code",
   "execution_count": null,
   "metadata": {},
   "outputs": [],
   "source": [
    "# Definizione della truttura esterna della libreria\n",
    "sx_armadio = QUOTE([0.3])\n",
    "sy_armadio = QUOTE([0.7])\n",
    "sz_armadio = QUOTE([1.5])\n",
    "esterno_libreria = INSR(PROD)([sx_libreria,sy_libreria,sz_libreria])"
   ]
  },
  {
   "cell_type": "code",
   "execution_count": null,
   "metadata": {},
   "outputs": [],
   "source": [
    "# Definizione della struttura interna della libreria\n",
    "ix_libreria = QUOTE([0.3])\n",
    "iy_libreria = QUOTE([0.6])\n",
    "iz_libreria = QUOTE([1.4])\n",
    "interno_libreria = INSR(PROD)([ix_libreria,iy_libreria,iz_libreria])"
   ]
  },
  {
   "cell_type": "code",
   "execution_count": null,
   "metadata": {},
   "outputs": [],
   "source": [
    "# Definizione dei piani della libreria\n",
    "px_libreria = QUOTE([0.25])\n",
    "py_libreria = QUOTE([0.7])\n",
    "pz_libreria = QUOTE([-0.225,0.05]*4)\n",
    "piano_libreria = INSR(PROD)([px_libreria,py_libreria,pz_libreria])"
   ]
  },
  {
   "cell_type": "code",
   "execution_count": null,
   "metadata": {},
   "outputs": [],
   "source": [
    "# Definizione della struttura esterna dell'anta della libreria\n",
    "x_anta = QUOTE([0.05])\n",
    "y_anta = QUOTE([0.35]*2)\n",
    "z_anta = QUOTE([1.1])\n",
    "esterno_anta = INSR(PROD)([x_anta, y_anta, z_anta])"
   ]
  },
  {
   "cell_type": "code",
   "execution_count": null,
   "metadata": {},
   "outputs": [],
   "source": [
    "# Definizione della struttura interna dell'anta della libreria\n",
    "ix_anta = QUOTE([0.05])\n",
    "iy_anta = QUOTE([0.25,-0.1]*2)\n",
    "iz_anta = QUOTE([1])\n",
    "interno_anta = INSR(PROD)([ix_anta, iy_anta, iz_anta])"
   ]
  },
  {
   "cell_type": "code",
   "execution_count": null,
   "metadata": {},
   "outputs": [],
   "source": [
    "# Struttura delle ante della libreria\n",
    "ante = DIFFERENCE([STRUCT([esterno_anta]), (T([2,3])([0.05,0.05])(interno_anta))])"
   ]
  },
  {
   "cell_type": "code",
   "execution_count": null,
   "metadata": {},
   "outputs": [],
   "source": [
    "# Struttura dei pomelli\n",
    "x_pomello = QUOTE([0.02])\n",
    "y_pomello = QUOTE([0.02,-0.04]*2)\n",
    "z_pomello = QUOTE([0.02])\n",
    "pomelli = INSR(PROD)([x_pomello,y_pomello, z_pomello])"
   ]
  },
  {
   "cell_type": "code",
   "execution_count": null,
   "metadata": {},
   "outputs": [],
   "source": [
    "# Struttura della libreria\n",
    "libreria = STRUCT([struttura_libreria, piano_libreria, T([1])([0.25]), ante, T([1,2,3])([0.05,0.31,0.6]), COLOR(BLACK), pomelli])"
   ]
  },
  {
   "cell_type": "code",
   "execution_count": null,
   "metadata": {},
   "outputs": [],
   "source": [
    "# Definizione della struttura interna del mobile\n",
    "sx_mobile = QUOTE([0.3])\n",
    "sy_mobile = QUOTE([1.4])\n",
    "sz_mobile = QUOTE([0.75])\n",
    "esterno_mobile = INSR(PROD)([sx_mobile, sy_mobile, sz_mobile])"
   ]
  },
  {
   "cell_type": "code",
   "execution_count": null,
   "metadata": {},
   "outputs": [],
   "source": [
    "# Definizione della struttura interna del mobile\n",
    "ix_mobile = QUOTE([0.3])\n",
    "iy_mobile = QUOTE([1.3])\n",
    "iz_mobile = QUOTE([0.65])\n",
    "interno_mobile = INSR(PROD)([ix_mobile, iy_mobile, iz_mobile])"
   ]
  },
  {
   "cell_type": "code",
   "execution_count": null,
   "metadata": {},
   "outputs": [],
   "source": [
    "# Struttura del mobile\n",
    "struttura_mobile = DIFFERENCE([STRUCT([esterno_mobile]), (T([1,2,3])([0.05,0.05,0.05])(interno_mobile))])"
   ]
  },
  {
   "cell_type": "code",
   "execution_count": null,
   "metadata": {},
   "outputs": [],
   "source": [
    "# Definizione del divisore del mobile\n",
    "x_divisore = QUOTE([0.25])\n",
    "y_divisore = QUOTE([0.05])\n",
    "z_divisore = QUOTE([0.65])\n",
    "divisore = INSR(PROD)([x_divisore,y_divisore,z_divisore])"
   ]
  },
  {
   "cell_type": "code",
   "execution_count": null,
   "metadata": {},
   "outputs": [],
   "source": [
    "# Definizione della struttura dei piani del mobile\n",
    "px_mobile = QUOTE([0.25])\n",
    "py_mobile = QUOTE([-0.05,0.65]*2)\n",
    "pz_mobile = QUOTE([-0.225,0.05]*2)\n",
    "piano_mobile = INSR(PROD)([px_mobile,py_mobile,pz_mobile])"
   ]
  },
  {
   "cell_type": "code",
   "execution_count": null,
   "metadata": {},
   "outputs": [],
   "source": [
    "# Definizione della struttura delle ante del mobile\n",
    "x_antamobile = QUOTE([0.05])\n",
    "y_antamobile = QUOTE([0.375]*2)\n",
    "z_antamobile = QUOTE([0.7])\n",
    "anta_mobile = INSR(PROD)([x_antamobile, y_antamobile, z_antamobile])"
   ]
  },
  {
   "cell_type": "code",
   "execution_count": null,
   "metadata": {},
   "outputs": [],
   "source": [
    "# Struttura del mobile\n",
    "mobile = STRUCT([COLOR(GRAY),struttura_mobile, piano_mobile, T([2,3])([0.7,0.05]),divisore, T([1,2])([0.25,-0.05]), anta_mobile,  T([1,2,3])([0.05,0.33,0.6]),COLOR(BLACK), pomelli])"
   ]
  },
  {
   "cell_type": "code",
   "execution_count": null,
   "metadata": {},
   "outputs": [],
   "source": [
    "# Piani dei banchi\n",
    "x_piano = QUOTE([0.3,-0.5]*4)\n",
    "y_piano = QUOTE([0.5,-0.3]*4)\n",
    "piano = INSR(PROD)([x_piano,y_piano, Q(0.03)])"
   ]
  },
  {
   "cell_type": "code",
   "execution_count": null,
   "metadata": {},
   "outputs": [],
   "source": [
    "# Asse del sottobanco\n",
    "x_asse = QUOTE([-0.21, 0.03,-0.56]*4)\n",
    "y_asse = QUOTE([0.48,-0.32]*4)\n",
    "asse = INSR(PROD)([x_asse,y_asse, Q(0.03)])"
   ]
  },
  {
   "cell_type": "code",
   "execution_count": null,
   "metadata": {},
   "outputs": [],
   "source": [
    "# Gamba destra dei banchi\n",
    "px_destra = QUOTE([-0.21, 0.03, -0.56]*4)\n",
    "py_destra = QUOTE([0.03, -0.77]*4)\n",
    "gamba_destra = INSR(PROD)([px_destra,py_destra, QUOTE([0.5])])"
   ]
  },
  {
   "cell_type": "code",
   "execution_count": null,
   "metadata": {},
   "outputs": [],
   "source": [
    "# Gamba sinistra dei banchi\n",
    "px_sinistra = QUOTE([-0.21, 0.03, -0.56]*4)\n",
    "py_sinistra = QUOTE([-0.46, 0.03, -0.31]*4)\n",
    "gamba_sinistra = INSR(PROD)([px_sinistra,py_sinistra, QUOTE([0.5])])"
   ]
  },
  {
   "cell_type": "code",
   "execution_count": null,
   "metadata": {},
   "outputs": [],
   "source": [
    "# Piede destro dei banchi\n",
    "fx_destra = QUOTE([0.05, -0.75]*4)\n",
    "fy_destra = QUOTE([-0.05, 0.25, -0.50]*4)\n",
    "feet_destra = INSR(PROD)([fy_destra,fx_destra, QUOTE([0.05])])"
   ]
  },
  {
   "cell_type": "code",
   "execution_count": null,
   "metadata": {},
   "outputs": [],
   "source": [
    "# Piede sinistro dei banchi\n",
    "fx_sinistra = QUOTE([-0.45, 0.05, -0.30]*4)\n",
    "fy_sinistra = QUOTE([-0.05, 0.25, -0.50]*4)\n",
    "feet_sinistra = INSR(PROD)([fy_sinistra,fx_sinistra, QUOTE([0.05])])"
   ]
  },
  {
   "cell_type": "code",
   "execution_count": null,
   "metadata": {},
   "outputs": [],
   "source": [
    "# Tappo piede destro dei banchi\n",
    "tx_destra = QUOTE([0.05, -0.25, 0.05,-0.45]*4)\n",
    "ty_destra = QUOTE([0.05, -0.75]*4)\n",
    "tappo_destra = INSR(PROD)([tx_destra,ty_destra, QUOTE([0.05])])"
   ]
  },
  {
   "cell_type": "code",
   "execution_count": null,
   "metadata": {},
   "outputs": [],
   "source": [
    "# Tappo piede sinistro dei banchi\n",
    "tx_sinistra = QUOTE([-0.45, 0.05, -0.30]*4)\n",
    "ty_sinistra = QUOTE([0.05, -0.25, 0.05,-0.45]*4)\n",
    "tappo_sinistra = INSR(PROD)([ty_sinistra,tx_sinistra, QUOTE([0.05])])"
   ]
  },
  {
   "cell_type": "code",
   "execution_count": null,
   "metadata": {},
   "outputs": [],
   "source": [
    "# Struttura completa banchi\n",
    "banchi = STRUCT([COLOR(BLUE),gamba_destra, gamba_sinistra, feet_destra, feet_sinistra, COLOR(BLACK), tappo_destra, tappo_sinistra, COLOR(BLUE), T(3)(0.4),asse, T(3)(0.1), COLOR(WHITE), piano])"
   ]
  },
  {
   "cell_type": "code",
   "execution_count": null,
   "metadata": {},
   "outputs": [],
   "source": [
    "# Struttura completa della classe\n",
    "classroom = STRUCT([wall, COLOR(BROWN), T(3)(-0.01), pavimento, T([1,2,3])([0.3, 1.5,0.02]), COLOR(GRAY), libreria, T(2)(0.7), mobile, T([1,2])([1,-1]),banchi])"
   ]
  },
  {
   "cell_type": "code",
   "execution_count": null,
   "metadata": {},
   "outputs": [],
   "source": [
    "VIEW(classroom)"
   ]
  }
 ],
 "metadata": {
  "kernelspec": {
   "display_name": "Python 2",
   "language": "python",
   "name": "python2"
  },
  "language_info": {
   "codemirror_mode": {
    "name": "ipython",
    "version": 2.0
   },
   "file_extension": ".py",
   "mimetype": "text/x-python",
   "name": "python",
   "nbconvert_exporter": "python",
   "pygments_lexer": "ipython2",
   "version": "2.7.6"
  }
 },
 "nbformat": 4,
 "nbformat_minor": 0
}