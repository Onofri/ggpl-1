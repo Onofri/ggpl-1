{
 "cells": [
  {
   "cell_type": "markdown",
   "metadata": {
    "collapsed": true
   },
   "source": [
    "[![building1](https://github.com/elesciarrone/ggpl/blob/master/2016-10-21/building1.jpg)](https://github.com/elesciarrone/ggpl/blob/master/2016-10-21/building1.jpg)"
   ]
  },
  {
   "cell_type": "code",
   "execution_count": null,
   "metadata": {},
   "outputs": [],
   "source": [
    "from pyplasm import *"
   ]
  },
  {
   "cell_type": "code",
   "execution_count": null,
   "metadata": {},
   "outputs": [],
   "source": [
    "ny_pilastri = 5\n",
    "nx_pilastri = 3\n",
    "distance = 4\n",
    "height = 3"
   ]
  },
  {
   "cell_type": "code",
   "execution_count": null,
   "metadata": {},
   "outputs": [],
   "source": [
    "#definizione dei plinti\n",
    "x_plinti = QUOTE([1.2,-distance] * nx_pilastri)\n",
    "y_plinti = QUOTE([1.2,-distance] * ny_pilastri)\n",
    "plinti = INSR(PROD)([x_plinti,y_plinti, Q(0.5)])"
   ]
  },
  {
   "cell_type": "code",
   "execution_count": null,
   "metadata": {},
   "outputs": [],
   "source": [
    "#definizione dei pilastri\n",
    "px = QUOTE([-0.4, 0.4, -0.4, -distance]*nx_pilastri)\n",
    "py = QUOTE([-0.4, 0.4, -0.4, -distance]*ny_pilastri)\n",
    "pilastri = INSR(PROD)([px,py, QUOTE([-0.5,3.6]*height)])"
   ]
  },
  {
   "cell_type": "code",
   "execution_count": null,
   "metadata": {},
   "outputs": [],
   "source": [
    "#definizione delle travi\n",
    "lungx = 0.4*nx_pilastri + 0.4*(nx_pilastri*2-2)+distance*(nx_pilastri-1)\n",
    "lungy = 0.4*ny_pilastri + 0.4*(ny_pilastri*2-2)+distance*(ny_pilastri-1)\n",
    "x_travi = QUOTE([-0.4, lungx])\n",
    "y_travi = QUOTE([-0.4, lungy])\n",
    "travi = INSR(PROD)([x_travi,y_travi,QUOTE([0.5, -3.6]*height)])"
   ]
  },
  {
   "cell_type": "code",
   "execution_count": null,
   "metadata": {},
   "outputs": [],
   "source": [
    "#definizione degli spazi tra travi e pilastri\n",
    "holex = QUOTE([-0.4, distance+0.8]*(nx_pilastri-1))\n",
    "holey = QUOTE([-0.4, distance+0.8]*(ny_pilastri-1))\n",
    "hole = INSR(PROD)([holex, holey, QUOTE([0.5, -3.6]*height)])\n",
    "piano = DIFFERENCE([travi,(T([1,2])([0.4,0.4])(hole))])"
   ]
  },
  {
   "cell_type": "code",
   "execution_count": null,
   "metadata": {},
   "outputs": [],
   "source": [
    "#struttura edificio\n",
    "building = STRUCT([COLOR(CYAN),plinti,COLOR(BLUE),pilastri,COLOR(CYAN),T(3)(4.1),piano])"
   ]
  },
  {
   "cell_type": "code",
   "execution_count": null,
   "metadata": {},
   "outputs": [],
   "source": [
    "VIEW(building)"
   ]
  }
 ],
 "metadata": {
  "kernelspec": {
   "display_name": "Python 2",
   "language": "python",
   "name": "python2"
  },
  "language_info": {
   "codemirror_mode": {
    "name": "ipython",
    "version": 2.0
   },
   "file_extension": ".py",
   "mimetype": "text/x-python",
   "name": "python",
   "nbconvert_exporter": "python",
   "pygments_lexer": "ipython2",
   "version": "2.7.6"
  }
 },
 "nbformat": 4,
 "nbformat_minor": 0
}